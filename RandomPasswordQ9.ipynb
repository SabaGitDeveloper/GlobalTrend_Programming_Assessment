{
 "cells": [
  {
   "cell_type": "code",
   "execution_count": 3,
   "id": "34f3f766-0128-4df1-8d4f-d9afb37ec74a",
   "metadata": {},
   "outputs": [
    {
     "name": "stdout",
     "output_type": "stream",
     "text": [
      "f+F\"L,L0\n"
     ]
    }
   ],
   "source": [
    "import random\n",
    "import string\n",
    "\n",
    "def generate_password(length=12):\n",
    "    \"\"\"\n",
    "    Generate a random password with a mix of uppercase letters, lowercase letters, digits, and special characters.\n",
    "\n",
    "    Args:\n",
    "        length (int): The length of the password to be generated. Default is 12.\n",
    "\n",
    "    Returns:\n",
    "        str: The generated password.\n",
    "    \"\"\"\n",
    "    if length < 4:\n",
    "        raise ValueError(\"Password length should be at least 4 to include all character types.\")\n",
    "    \n",
    "    # Defining character sets\n",
    "    uppercase = string.ascii_uppercase\n",
    "    lowercase = string.ascii_lowercase\n",
    "    digits = string.digits\n",
    "    special_characters = string.punctuation\n",
    "    \n",
    "    # Ensuring at least one character from each set is included\n",
    "    password = [\n",
    "        random.choice(uppercase),\n",
    "        random.choice(lowercase),\n",
    "        random.choice(digits),\n",
    "        random.choice(special_characters)\n",
    "    ]\n",
    "    \n",
    "    # Filling the rest of the password length with a random selection from all character sets\n",
    "    all_characters = uppercase + lowercase + digits + special_characters\n",
    "    password += random.choices(all_characters, k=length - 4)\n",
    "    \n",
    "    # Shuffling the list to ensure the password is random\n",
    "    random.shuffle(password)\n",
    "    \n",
    "    return ''.join(password)\n",
    "\n",
    "# Example usage:\n",
    "print(generate_password(8))\n"
   ]
  }
 ],
 "metadata": {
  "kernelspec": {
   "display_name": "Python 3 (ipykernel)",
   "language": "python",
   "name": "python3"
  },
  "language_info": {
   "codemirror_mode": {
    "name": "ipython",
    "version": 3
   },
   "file_extension": ".py",
   "mimetype": "text/x-python",
   "name": "python",
   "nbconvert_exporter": "python",
   "pygments_lexer": "ipython3",
   "version": "3.11.7"
  }
 },
 "nbformat": 4,
 "nbformat_minor": 5
}
