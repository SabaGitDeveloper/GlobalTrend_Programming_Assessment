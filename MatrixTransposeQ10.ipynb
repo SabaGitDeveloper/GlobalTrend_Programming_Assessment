{
 "cells": [
  {
   "cell_type": "code",
   "execution_count": 10,
   "id": "a2163ed1-2ff5-49e0-83ff-fd2059b03f5d",
   "metadata": {},
   "outputs": [
    {
     "name": "stdout",
     "output_type": "stream",
     "text": [
      "All rows in the matrix should have the same length.\n",
      "None\n"
     ]
    }
   ],
   "source": [
    "def transpose_matrix(matrix):\n",
    "    \"\"\"\n",
    "    Transpose a 2D list (matrix).\n",
    "\n",
    "    Args:\n",
    "        matrix (list of list of any type): The 2D list to be transposed.\n",
    "\n",
    "    Returns:\n",
    "        list of list of any type: The transposed matrix.\n",
    "    \"\"\"\n",
    "    if not matrix or not all(isinstance(row, list) for row in matrix):\n",
    "        print (\"Input should be a 2D list.\")\n",
    "        return\n",
    "\n",
    "    # Checking if all rows have the same length\n",
    "    if any(len(row) != len(matrix[0]) for row in matrix):\n",
    "        print (\"All rows in the matrix should have the same length.\")\n",
    "        return\n",
    "\n",
    "    # Transposing the matrix using zip \n",
    "    transposed = [list(row) for row in zip(*matrix)]\n",
    "    \n",
    "    return transposed\n",
    "\n",
    "# Example usage:\n",
    "matrix = [\n",
    "    [1, 2, 3],\n",
    "    [4, 5, ],\n",
    "    [7, 8, 9]\n",
    "]\n",
    "\n",
    "transposed_matrix = transpose_matrix(matrix)\n",
    "print(transposed_matrix)\n"
   ]
  }
 ],
 "metadata": {
  "kernelspec": {
   "display_name": "Python 3 (ipykernel)",
   "language": "python",
   "name": "python3"
  },
  "language_info": {
   "codemirror_mode": {
    "name": "ipython",
    "version": 3
   },
   "file_extension": ".py",
   "mimetype": "text/x-python",
   "name": "python",
   "nbconvert_exporter": "python",
   "pygments_lexer": "ipython3",
   "version": "3.11.7"
  }
 },
 "nbformat": 4,
 "nbformat_minor": 5
}
