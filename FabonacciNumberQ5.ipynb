{
 "cells": [
  {
   "cell_type": "code",
   "execution_count": 4,
   "id": "e89ae592-e6ce-4dcb-a4f6-9cc4a2f50b46",
   "metadata": {},
   "outputs": [
    {
     "name": "stdout",
     "output_type": "stream",
     "text": [
      "The 45th Fibonacci number is: 1134903170\n"
     ]
    }
   ],
   "source": [
    "# Storing already computed Fibonacci numbers\n",
    "fib_cache = {}\n",
    "\n",
    "def fibonacci(n):\n",
    "    # Base cases\n",
    "    if n <= 0:\n",
    "        return 0\n",
    "    elif n == 1:\n",
    "        return 1\n",
    "    \n",
    "    # Checking if the result is already cached\n",
    "    if n in fib_cache:\n",
    "        return fib_cache[n]\n",
    "    \n",
    "    # Computing the Fibonacci number recursively\n",
    "    fib_value = fibonacci(n - 1) + fibonacci(n - 2)\n",
    "    \n",
    "    # Caching the result before returning it\n",
    "    fib_cache[n] = fib_value\n",
    "    \n",
    "    return fib_value\n",
    "\n",
    "# Example usage:\n",
    "n = 45\n",
    "print(f\"The {n}th Fibonacci number is: {fibonacci(n)}\")\n"
   ]
  },
  {
   "cell_type": "code",
   "execution_count": null,
   "id": "4e2f6764-2b72-4676-a0d0-64cb3a9b53b7",
   "metadata": {},
   "outputs": [],
   "source": []
  }
 ],
 "metadata": {
  "kernelspec": {
   "display_name": "Python 3 (ipykernel)",
   "language": "python",
   "name": "python3"
  },
  "language_info": {
   "codemirror_mode": {
    "name": "ipython",
    "version": 3
   },
   "file_extension": ".py",
   "mimetype": "text/x-python",
   "name": "python",
   "nbconvert_exporter": "python",
   "pygments_lexer": "ipython3",
   "version": "3.11.7"
  }
 },
 "nbformat": 4,
 "nbformat_minor": 5
}
