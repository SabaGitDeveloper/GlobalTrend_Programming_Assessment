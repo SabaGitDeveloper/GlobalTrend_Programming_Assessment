{
 "cells": [
  {
   "cell_type": "code",
   "execution_count": 10,
   "id": "ba6c1faa-f67a-41b3-a4f4-de4056837d26",
   "metadata": {},
   "outputs": [
    {
     "name": "stdin",
     "output_type": "stream",
     "text": [
      "Enter the First Number:  3\n",
      "Enter the Second Number:  0\n",
      "Enter the Operation to perform : \n",
      "    Addition: +\n",
      "    Subtraction: -\n",
      "    Multiplication: *\n",
      "    Division: /\n",
      "    Your Choice:  /\n"
     ]
    },
    {
     "name": "stdout",
     "output_type": "stream",
     "text": [
      "3 / 0 = Error Division by Zero\n"
     ]
    }
   ],
   "source": [
    "def computation(first_num,second_num,operator):#Performs arithmetic operations on two numbers\n",
    "    match operator:\n",
    "        case '+':\n",
    "            return first_num+second_num\n",
    "        case '-':\n",
    "            return first_num-second_num\n",
    "        case '*':\n",
    "            return first_num*second_num\n",
    "        case '/':\n",
    "            if second_num != 0:\n",
    "                return first_num/second_num\n",
    "            return \"Error Division by Zero\"\n",
    "            \n",
    "        case _:\n",
    "            return \"Operation not recognized\"\n",
    "\n",
    "try:\n",
    "    first_num = int(input('Enter the First Number: '))# Taking First Number as an input\n",
    "    second_num= int(input('Enter the Second Number: '))# Taking Second Number as an input\n",
    "    operator= input('''Enter the Operation to perform : \n",
    "    Addition: +\n",
    "    Subtraction: -\n",
    "    Multiplication: *\n",
    "    Division: /\n",
    "    Your Choice: ''')\n",
    "    answer=computation(first_num,second_num,operator)\n",
    "    print(f\"{first_num} {operator} {second_num} = {answer}\")\n",
    "except ValueError:\n",
    "    print(\"Please Enter Correct Number\")\n",
    "\n",
    "\n"
   ]
  },
  {
   "cell_type": "code",
   "execution_count": null,
   "id": "0d00a100-7ff9-404c-adb8-1bdb5f2eeb7b",
   "metadata": {},
   "outputs": [],
   "source": []
  }
 ],
 "metadata": {
  "kernelspec": {
   "display_name": "Python 3 (ipykernel)",
   "language": "python",
   "name": "python3"
  },
  "language_info": {
   "codemirror_mode": {
    "name": "ipython",
    "version": 3
   },
   "file_extension": ".py",
   "mimetype": "text/x-python",
   "name": "python",
   "nbconvert_exporter": "python",
   "pygments_lexer": "ipython3",
   "version": "3.11.7"
  }
 },
 "nbformat": 4,
 "nbformat_minor": 5
}
