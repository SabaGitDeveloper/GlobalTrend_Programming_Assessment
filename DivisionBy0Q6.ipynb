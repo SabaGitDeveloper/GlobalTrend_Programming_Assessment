{
 "cells": [
  {
   "cell_type": "code",
   "execution_count": 4,
   "id": "e093d40c-9c84-4730-b395-9c534bb23376",
   "metadata": {},
   "outputs": [
    {
     "name": "stdout",
     "output_type": "stream",
     "text": [
      "Result of division: 1.0\n"
     ]
    }
   ],
   "source": [
    "def divide_numbers(dividend, divisor):\n",
    "    try:\n",
    "        result = dividend / divisor\n",
    "    except ZeroDivisionError:\n",
    "        return \"Error: Division by zero is not allowed.\"\n",
    "    else:\n",
    "        return result\n",
    "\n",
    "# Example usage:\n",
    "dividend = 10\n",
    "divisor = 10\n",
    "\n",
    "result = divide_numbers(dividend, divisor)\n",
    "print(f\"Result of division: {result}\")\n"
   ]
  }
 ],
 "metadata": {
  "kernelspec": {
   "display_name": "Python 3 (ipykernel)",
   "language": "python",
   "name": "python3"
  },
  "language_info": {
   "codemirror_mode": {
    "name": "ipython",
    "version": 3
   },
   "file_extension": ".py",
   "mimetype": "text/x-python",
   "name": "python",
   "nbconvert_exporter": "python",
   "pygments_lexer": "ipython3",
   "version": "3.11.7"
  }
 },
 "nbformat": 4,
 "nbformat_minor": 5
}
